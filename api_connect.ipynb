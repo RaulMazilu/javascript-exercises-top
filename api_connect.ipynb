{
  "nbformat": 4,
  "nbformat_minor": 0,
  "metadata": {
    "colab": {
      "name": "api-connect.ipynb",
      "provenance": [],
      "collapsed_sections": [],
      "history_visible": true,
      "authorship_tag": "ABX9TyPKDeAewYBiZL8Vh/wSVKqR",
      "include_colab_link": true
    },
    "kernelspec": {
      "name": "python3",
      "display_name": "Python 3"
    },
    "language_info": {
      "name": "python"
    }
  },
  "cells": [
    {
      "cell_type": "markdown",
      "metadata": {
        "id": "view-in-github",
        "colab_type": "text"
      },
      "source": [
        "<a href=\"https://colab.research.google.com/github/RaulMazilu/javascript-exercises-top/blob/main/api_connect.ipynb\" target=\"_parent\"><img src=\"https://colab.research.google.com/assets/colab-badge.svg\" alt=\"Open In Colab\"/></a>"
      ]
    },
    {
      "cell_type": "markdown",
      "source": [
        "New code from 08/2022"
      ],
      "metadata": {
        "id": "en-TNHYc-7tu"
      }
    },
    {
      "cell_type": "code",
      "source": [
        "import requests\n",
        "\n",
        "\n",
        "url = \"https://api.notion.com/v1/databases/d5a2704b27604f5ea05adeeb6e17f2f9/query\"\n",
        "\n",
        "payload = {\n",
        "    \"page_size\": 10,\n",
        "    \"filter\": {\n",
        "        'property': 'Read',\n",
        "        'checkbox': {\n",
        "            'equals': 'true'\n",
        "        }\n",
        "    }\n",
        "}\n",
        "\n",
        "headers = {\n",
        "    \"Accept\": \"application/json\",\n",
        "    \"Notion-Version\": \"2022-06-28\",\n",
        "    \"Content-Type\": \"application/json\"\n",
        "}\n",
        "\n",
        "response = requests.post(url, json=payload, headers=headers)\n",
        "\n",
        "print(response.text)"
      ],
      "metadata": {
        "colab": {
          "base_uri": "https://localhost:8080/"
        },
        "id": "2-C-5xBx-yl1",
        "outputId": "0fc7df1c-fdd3-4b11-bc2b-93f3dc013f03"
      },
      "execution_count": 9,
      "outputs": [
        {
          "output_type": "stream",
          "name": "stdout",
          "text": [
            "{\"object\":\"error\",\"status\":401,\"code\":\"unauthorized\",\"message\":\"API token is invalid.\"}\n"
          ]
        }
      ]
    },
    {
      "cell_type": "markdown",
      "source": [
        "Older code from 05/2022"
      ],
      "metadata": {
        "id": "jM1Z0-0f-0OV"
      }
    },
    {
      "cell_type": "code",
      "execution_count": 18,
      "metadata": {
        "id": "nd5BqBt07c3o"
      },
      "outputs": [],
      "source": [
        "# -*- coding: utf-8 -*-\n",
        "\"\"\"\n",
        "Created on Sun May 30 22:20:49 2021\n",
        "\n",
        "@author: Raul\n",
        "\"\"\"\n",
        "import pandas as pd\n",
        "import requests\n",
        "\n",
        "# DB = Workout --> https://www.notion.so/raulmazilu/a82916fc786c473dbf3f32fc512a3688 \n",
        "# DATABASE_ID = \"a82916fc786c473dbf3f32fc512a3688\"\n",
        "\n",
        "# DB = Inbound Repo --> https://www.notion.so/raulmazilu/d5a2704b27604f5ea05adeeb6e17f2f9\n",
        "DATABASE_ID = \"d5a2704b27604f5ea05adeeb6e17f2f9\"\n",
        "\n",
        "# token for Notion integration = Habit Tracker \n",
        "TOKEN = \"secret_q0cEzOIKeP3FrSufQja5Ulr447JF3EEHOYsoNxOkcNI\"\n",
        "NOTION_URL = 'https://api.notion.com/v1/databases/'\n",
        "\n",
        "class NotionSync:\n",
        "    def __init__(self):\n",
        "        pass\n",
        "    \n",
        "    def query_databases(self,integration_token=TOKEN):\n",
        "        database_url = NOTION_URL + DATABASE_ID + \"/query\"\n",
        "        # payload = {}\n",
        "        # if self.only_habits:\n",
        "        #     payload = {\"filter\" : \n",
        "        #                {\"property\": \"Action Item\",\n",
        "        #                 \"title\": \n",
        "        #                     {\"starts_with\": 'Workout'}}}\n",
        "        # response = requests.post(database_url, headers={\"Authorization\": f\"{integration_token}\"}, data = payload)\n",
        "        \n",
        "        response = requests.post(database_url, headers={\"Authorization\": f\"{integration_token}\"})\n",
        "        if response.status_code != 200:\n",
        "            print(f'Response Status: {response.status_code}')\n",
        "        else:\n",
        "            return response.json()\n",
        "    \n",
        "    def get_columns(self,data_json):\n",
        "        return list(data_json[\"results\"][0][\"properties\"].keys())\n",
        "    \n",
        "\n",
        "    def get_proc_data(self,data_json,cols):\n",
        "        proc_data = {}\n",
        "        for c, p in enumerate(data_json['results']):\n",
        "            v = 'Action Item'\n",
        "            if (p['properties'][v].get('title')):\n",
        "                proc_data[c] = {v : p['properties'][v].get('title')[0]['plain_text']}\n",
        "            \n",
        "                v = 'Added Date'\n",
        "                if v in p['properties'].keys():\n",
        "                    proc_data[c][v] = p['properties'][v]['created_time']\n",
        "            \n",
        "                v = 'Done Date'\n",
        "                if v in p['properties'].keys():\n",
        "                    proc_data[c][v] = p['properties'][v]['date']['start']\n",
        "    \n",
        "                v = 'Habit'\n",
        "                if v in p['properties'].keys():\n",
        "                    proc_data[c][v] = p['properties'][v]['select']['name']                    \n",
        "    \n",
        "                v = 'Habit (Numeric)'\n",
        "                if v in p['properties'].keys():\n",
        "                    proc_data[c][v] = p['properties'][v]['formula']['number']                    \n",
        "    \n",
        "                v = 'Note'\n",
        "                if (p['properties'][v].get('rich_text')):\n",
        "                    proc_data[c][v] = p['properties'][v].get('rich_text')[0]['plain_text']\n",
        "                else:\n",
        "                    proc_data[c][v] = ''\n",
        "                    \n",
        "                v = 'Total Time (hrs)'\n",
        "                if v in p['properties'].keys():\n",
        "                    proc_data[c][v] = p['properties'][v]['formula']['number']\n",
        "                    \n",
        "                v = 'Total Time (mins)'\n",
        "                if v in p['properties'].keys():\n",
        "                    proc_data[c][v] = p['properties'][v]['formula']['number']\n",
        "                    \n",
        "                v = 'Week'\n",
        "                if v in p['properties'].keys():\n",
        "                    proc_data[c][v] = p['properties'][v]['formula']['string']\n",
        "        return proc_data\n",
        "\n"
      ]
    },
    {
      "cell_type": "code",
      "source": [
        "#%%\n",
        "\n",
        "nsync = NotionSync()\n",
        "data = nsync.query_databases()\n",
        "cols = nsync.get_columns(data)\n",
        "# proc_data = nsync.get_proc_data(data, cols)\n",
        "# df = pd.DataFrame.from_dict(proc_data, orient = 'index')\n",
        "# print(data)\n",
        "print(cols)"
      ],
      "metadata": {
        "colab": {
          "base_uri": "https://localhost:8080/"
        },
        "id": "RJF4hfbL7jKY",
        "outputId": "449c36ba-4a18-4dca-c39d-5e70413e49b0"
      },
      "execution_count": 21,
      "outputs": [
        {
          "output_type": "stream",
          "name": "stdout",
          "text": [
            "['Brief description', 'Type', 'Processed Month', 'Read', 'Annotated', 'Rand', 'Doc', '🚀 PARA', 'Name', 'Tags', 'URL', 'Created', 'Updated']\n"
          ]
        }
      ]
    },
    {
      "cell_type": "code",
      "source": [
        "#%%\n",
        "# df = pd.DataFrame()\n",
        "cols_search = ['Action Item', 'Done Date']\n",
        "\n",
        "# if (data_json['results'][91]['properties'].get('Done Date')):\n",
        "if (data_json['results'][9]['properties']['Habit (Numeric)']['formula']['number']):\n",
        "    print(2)\n",
        "# # df = pd.DataFrame.from_dict(data['results'])\n",
        "# a = data['results'][0]['properties']\n",
        "# df = pd.DataFrame.from_dict(data['results'][0]['properties'], orient='index')\n",
        "# for d in data['results']:\n",
        "#     df = df.append(pd.DataFrame.from_dict(d['properties'], orient='index'))\n",
        "\n",
        "# just a change for the git"
      ],
      "metadata": {
        "id": "NS8GQJpR8F8a"
      },
      "execution_count": null,
      "outputs": []
    }
  ]
}